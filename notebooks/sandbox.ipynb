{
 "cells": [
  {
   "cell_type": "code",
   "execution_count": 50,
   "id": "7b2f9d4b",
   "metadata": {},
   "outputs": [
    {
     "name": "stdout",
     "output_type": "stream",
     "text": [
      "Génération du dataset de spectres à partir du modèle... (sur cuda)\n",
      "Batch traité, taille : 100\n"
     ]
    }
   ],
   "source": [
    "import numpy as np\n",
    "import pandas as pd\n",
    "import matplotlib.pyplot as plt\n",
    "import torch\n",
    "from src.io_spec import get_dataset_from_template\n",
    "\n",
    "wavemax = None\n",
    "wavemin = 4000\n",
    "n_specs = 100  # Setting a proper value instead of None\n",
    "planetary_signal_amplitudes = [100.0]\n",
    "planetary_signal_periods = [10.0]\n",
    "noise_level = 0\n",
    "template = np.load(\n",
    "    \"/home/tliopis/Codes/lagrange_llopis_mary_2025/data/soapgpu/paper_dataset/spec.npy\"\n",
    ")\n",
    "template = template / np.max(template)  # Normalisation du template\n",
    "wavegrid = np.load(\n",
    "    \"/home/tliopis/Codes/lagrange_llopis_mary_2025/data/soapgpu/paper_dataset/wavegrid.npy\"\n",
    ")\n",
    "\n",
    "velocities = np.zeros(n_specs, dtype=np.float32)\n",
    "for amplitude, period in zip(\n",
    "    planetary_signal_amplitudes, planetary_signal_periods\n",
    "):\n",
    "    velocities += amplitude * np.sin(\n",
    "        2 * np.pi * np.arange(n_specs) / period\n",
    "    )\n",
    "\n",
    "dataset, wavegrid, template = get_dataset_from_template(\n",
    "    template=template,\n",
    "    wavegrid=wavegrid,\n",
    "    velocities=velocities,\n",
    "    wavemin=wavemin,\n",
    "    wavemax=wavemax,\n",
    "    noise_level=noise_level,\n",
    "    dtype=torch.float32,\n",
    "    verbose=True,\n",
    ")"
   ]
  },
  {
   "cell_type": "code",
   "execution_count": 51,
   "id": "2fd62c69",
   "metadata": {},
   "outputs": [],
   "source": [
    "%matplotlib qt\n",
    "plt.figure(figsize=(10, 5))\n",
    "plt.plot(wavegrid, template, label=\"Template\")\n",
    "plt.plot(wavegrid, dataset[9], label=\"Dataset Sample\")\n",
    "plt.xlabel(\"Wavelength (A)\")\n",
    "plt.ylabel(\"Flux\")\n",
    "plt.title(\"Spectral Template and Sample from Dataset\")\n",
    "plt.xlim(5005, 5008)\n",
    "plt.grid()\n",
    "plt.legend()\n",
    "plt.show()"
   ]
  },
  {
   "cell_type": "code",
   "execution_count": 52,
   "id": "25aa686e",
   "metadata": {},
   "outputs": [
    {
     "name": "stdout",
     "output_type": "stream",
     "text": [
      "Construction CCF gaussian sparse...\n"
     ]
    }
   ],
   "source": [
    "from src.ccf import compute_CCFs_mask_gauss, compute_CCFs_template_optimized\n",
    "from src.fitter import extract_rv_from_fit, CCFFitter\n",
    "\n",
    "\n",
    "v_grid = np.arange(-20000, 20000, 100)\n",
    "window_size_velocity = 820  # Example value, adjust as needed\n",
    "# Example usage of compute_CCFs_template_optimized\n",
    "CCFs_mask = compute_CCFs_mask_gauss(\n",
    "    specs=dataset,\n",
    "    v_grid=v_grid,\n",
    "    wavegrid=wavegrid,\n",
    "    verbose=True,\n",
    "    mask_type=\"G2\",\n",
    "    sigma_velocity=window_size_velocity,\n",
    ")"
   ]
  },
  {
   "cell_type": "code",
   "execution_count": 53,
   "id": "916f1ad5",
   "metadata": {},
   "outputs": [],
   "source": [
    "from src.fitter import CCFFitter, extract_rv_from_fit\n",
    "from src.ccf import compute_CCFs_template_optimized, compute_CCFs_mask_gauss\n",
    "\n",
    "fitter = CCFFitter()\n",
    "rvs = []\n",
    "\n",
    "for ccf in CCFs_mask:\n",
    "    res = fitter.fit_ccf(ccf, v_grid=v_grid, orientation=\"down\", model=\"gaussian\", window_size=window_size_velocity)\n",
    "    rv = extract_rv_from_fit(res)[0]\n",
    "    rvs.append(rv)\n",
    "\n",
    "rvs = np.array(rvs)\n",
    "\n",
    "plt.figure(figsize=(10, 5))\n",
    "plt.plot(rvs, label=\"RV from CCFs\")\n",
    "plt.xlabel(\"Spectrum Index\")\n",
    "plt.ylabel(\"Radial Velocity (m/s)\")\n",
    "plt.title(\"Radial Velocities from CCFs\")\n",
    "plt.grid()\n",
    "plt.legend()\n",
    "plt.show()"
   ]
  },
  {
   "cell_type": "code",
   "execution_count": null,
   "id": "16ef5334",
   "metadata": {},
   "outputs": [],
   "source": []
  }
 ],
 "metadata": {
  "kernelspec": {
   "display_name": "Python 3",
   "language": "python",
   "name": "python3"
  },
  "language_info": {
   "codemirror_mode": {
    "name": "ipython",
    "version": 3
   },
   "file_extension": ".py",
   "mimetype": "text/x-python",
   "name": "python",
   "nbconvert_exporter": "python",
   "pygments_lexer": "ipython3",
   "version": "3.11.13"
  }
 },
 "nbformat": 4,
 "nbformat_minor": 5
}
